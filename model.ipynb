{
 "cells": [
  {
   "cell_type": "code",
   "execution_count": 10,
   "metadata": {},
   "outputs": [],
   "source": [
    "import pandas as pd\n",
    "import numpy as np\n",
    "import sklearn\n",
    "import collections\n",
    "\n",
    "\n",
    "from sklearn.linear_model import Lasso, LassoCV, Ridge, RidgeCV\n",
    "from sklearn import model_selection\n",
    "from sklearn.model_selection import StratifiedKFold\n",
    "from sklearn.metrics import mean_squared_error\n",
    "%matplotlib inline\n",
    "import matplotlib.pyplot as plt"
   ]
  },
  {
   "cell_type": "code",
   "execution_count": 2,
   "metadata": {},
   "outputs": [],
   "source": [
    "# read train,val and test from files"
   ]
  },
  {
   "cell_type": "code",
   "execution_count": 3,
   "metadata": {},
   "outputs": [],
   "source": [
    "X_train = pd.read_csv('input/train.tsv', sep='\\t')\n",
    "X_test = pd.read_csv('input/test.tsv', sep='\\t')"
   ]
  },
  {
   "cell_type": "code",
   "execution_count": 4,
   "metadata": {},
   "outputs": [],
   "source": [
    "y_train = X_train['target'].copy()\n",
    "X_train.drop(['target', 'user_id'], axis=1, inplace=True)\n",
    "\n",
    "y_test = X_test['target'].copy()\n",
    "X_test.drop(['target', 'user_id'], axis=1, inplace=True)"
   ]
  },
  {
   "cell_type": "code",
   "execution_count": 7,
   "metadata": {},
   "outputs": [],
   "source": [
    "number_of_folds = 10\n",
    "kfold = StratifiedKFold(n_splits=number_of_folds, shuffle=True)"
   ]
  },
  {
   "cell_type": "code",
   "execution_count": 15,
   "metadata": {},
   "outputs": [],
   "source": [
    "lasso_dict = collections.defaultdict(lambda: 0.0)\n",
    "for train_index , test_index in kfold.split(X_train,y_train):\n",
    "    trainX , valX = X_train.iloc[train_index,:],X_train.iloc[test_index,:]\n",
    "    trainY , valY = y_train[train_index] , y_train[test_index]\n",
    "    lasso_dict = Lasso_finetuning(trainX,trainY,valX,valY,lasso_dict)    "
   ]
  },
  {
   "cell_type": "code",
   "execution_count": 25,
   "metadata": {},
   "outputs": [],
   "source": [
    "for alpha in lasso_dict:\n",
    "    lasso_dict[alpha] /= number_of_folds\n",
    "\n",
    "lasso_dict = {k: v for k, v in sorted(lasso_dict.items(), key=lambda item: item[1])}\n",
    "alpha = next(iter(lasso_dict))"
   ]
  },
  {
   "cell_type": "code",
   "execution_count": 26,
   "metadata": {},
   "outputs": [
    {
     "name": "stdout",
     "output_type": "stream",
     "text": [
      "0.0001\n"
     ]
    }
   ],
   "source": [
    "print(alpha)"
   ]
  },
  {
   "cell_type": "markdown",
   "metadata": {},
   "source": [
    "implement lasso for the best alpha (0.0001)"
   ]
  },
  {
   "cell_type": "code",
   "execution_count": 30,
   "metadata": {},
   "outputs": [],
   "source": [
    "features = []\n",
    "lasso = Lasso(max_iter=10000, alpha=alpha)\n",
    "lasso.fit(X_train, y_train)\n",
    "ser = pd.Series(lasso.coef_, index=X_train.columns)\n",
    "for i, v in ser.items():\n",
    "        if (abs(v) != 0):\n",
    "            features.append(i)"
   ]
  },
  {
   "cell_type": "markdown",
   "metadata": {},
   "source": [
    "our new **X_train** and **X_test** after lasso feature selection"
   ]
  },
  {
   "cell_type": "code",
   "execution_count": 32,
   "metadata": {},
   "outputs": [],
   "source": [
    "X_train = X_train[features]\n",
    "X_test = X_test[features]"
   ]
  },
  {
   "cell_type": "markdown",
   "metadata": {},
   "source": [
    "**lasso_dict** contains all pairs of \"mse\" : \"features with zero corelation\""
   ]
  },
  {
   "cell_type": "code",
   "execution_count": 75,
   "metadata": {},
   "outputs": [
    {
     "data": {
      "text/plain": [
       "{0.1114311972973531: [],\n",
       " 0.11256462212376686: ['graph_dim_4', 'graph_dim_95', 'graph_dim_117'],\n",
       " 0.11157049853712421: ['graph_dim_54'],\n",
       " 0.11019620817951874: ['graph_dim_54', 'graph_dim_68'],\n",
       " 0.10827877599015043: ['graph_dim_4', 'graph_dim_75'],\n",
       " 0.11527118462141611: ['graph_dim_4',\n",
       "  'graph_dim_9',\n",
       "  'graph_dim_68',\n",
       "  'graph_dim_75',\n",
       "  'graph_dim_117'],\n",
       " 0.11325168913993625: ['graph_dim_9', 'graph_dim_75', 'graph_dim_117'],\n",
       " 0.11005738005577191: ['graph_dim_4', 'graph_dim_68', 'graph_dim_92'],\n",
       " 0.11313180816450306: ['graph_dim_75',\n",
       "  'graph_dim_92',\n",
       "  'graph_dim_95',\n",
       "  'graph_dim_117'],\n",
       " 0.11353996158652488: ['graph_dim_9']}"
      ]
     },
     "execution_count": 75,
     "metadata": {},
     "output_type": "execute_result"
    }
   ],
   "source": [
    "lasso_dict"
   ]
  },
  {
   "cell_type": "markdown",
   "metadata": {},
   "source": [
    "**Lasso_finetuning** : returns a pair of mse of train dataset and zero corelation features"
   ]
  },
  {
   "cell_type": "code",
   "execution_count": 14,
   "metadata": {},
   "outputs": [],
   "source": [
    "def Lasso_finetuning(X_train, Y_train,X_test,Y_test,lasso_dict):\n",
    "    alpha = np.arange(0.0001, 0.1, 0.001)\n",
    "    \n",
    "    for a_param in alpha:\n",
    "        lasso = Lasso(max_iter=10000, alpha=a_param)\n",
    "        lasso.fit(X_train,Y_train)\n",
    "        mse = mean_squared_error(Y_test, lasso.predict(X_test))\n",
    "        lasso_dict[a_param] += mse\n",
    "        \n",
    "    return lasso_dict"
   ]
  },
  {
   "cell_type": "code",
   "execution_count": null,
   "metadata": {},
   "outputs": [],
   "source": []
  }
 ],
 "metadata": {
  "kernelspec": {
   "display_name": "Python 3 (ipykernel)",
   "language": "python",
   "name": "python3"
  },
  "language_info": {
   "codemirror_mode": {
    "name": "ipython",
    "version": 3
   },
   "file_extension": ".py",
   "mimetype": "text/x-python",
   "name": "python",
   "nbconvert_exporter": "python",
   "pygments_lexer": "ipython3",
   "version": "3.7.6"
  }
 },
 "nbformat": 4,
 "nbformat_minor": 4
}
