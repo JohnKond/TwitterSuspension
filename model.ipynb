{
 "cells": [
  {
   "cell_type": "code",
   "execution_count": 30,
   "metadata": {},
   "outputs": [],
   "source": [
    "import pandas as pd\n",
    "import numpy as np\n",
    "import sklearn"
   ]
  },
  {
   "cell_type": "code",
   "execution_count": 31,
   "metadata": {},
   "outputs": [],
   "source": [
    "# read train,val and test from files"
   ]
  },
  {
   "cell_type": "code",
   "execution_count": 32,
   "metadata": {},
   "outputs": [],
   "source": [
    "train = pd.read_csv('input/train.tsv', sep='\\t')\n",
    "val = pd.read_csv('input/val.tsv', sep='\\t')\n",
    "test = pd.read_csv('input/test.tsv', sep='\\t')"
   ]
  },
  {
   "cell_type": "code",
   "execution_count": 33,
   "metadata": {},
   "outputs": [],
   "source": [
    "X_train = train.iloc[:,1:152]"
   ]
  },
  {
   "cell_type": "code",
   "execution_count": 34,
   "metadata": {},
   "outputs": [],
   "source": [
    "y_train = train.loc[:,\"target\"]"
   ]
  },
  {
   "cell_type": "code",
   "execution_count": 35,
   "metadata": {},
   "outputs": [],
   "source": [
    "X_test = val.iloc[:,1:152]"
   ]
  },
  {
   "cell_type": "code",
   "execution_count": 36,
   "metadata": {},
   "outputs": [],
   "source": [
    "y_test = val.loc[:,\"target\"]"
   ]
  },
  {
   "cell_type": "markdown",
   "metadata": {},
   "source": [
    "Lasso : First solution"
   ]
  },
  {
   "cell_type": "code",
   "execution_count": 10,
   "metadata": {},
   "outputs": [],
   "source": [
    "# from sklearn.linear_model import Lasso, LassoCV, Ridge, RidgeCV\n",
    "# from sklearn import model_selection\n",
    "# from sklearn.metrics import mean_squared_error\n",
    "# %matplotlib inline\n",
    "# import matplotlib.pyplot as plt"
   ]
  },
  {
   "cell_type": "code",
   "execution_count": 58,
   "metadata": {
    "collapsed": true
   },
   "outputs": [
    {
     "name": "stdout",
     "output_type": "stream",
     "text": [
      "Alpha= 4.432332110388478e-07\n",
      "mse =  0.10985454883417317\n",
      "best model coefficients:\n"
     ]
    },
    {
     "data": {
      "text/plain": [
       "graph_dim_1     -1.603218e-02\n",
       "graph_dim_2      1.019848e-02\n",
       "graph_dim_3     -4.062988e-03\n",
       "graph_dim_4     -7.143024e-03\n",
       "graph_dim_5      3.792590e-02\n",
       "                     ...     \n",
       "graph_dim_147    3.704284e-02\n",
       "graph_dim_148   -5.730044e-03\n",
       "graph_dim_149   -3.864395e-02\n",
       "graph_dim_150    1.398705e-02\n",
       "user_id          1.546575e-19\n",
       "Length: 151, dtype: float64"
      ]
     },
     "execution_count": 58,
     "metadata": {},
     "output_type": "execute_result"
    }
   ],
   "source": [
    "# lasso = Lasso(max_iter=10000, normalize=True)\n",
    "\n",
    "# lassocv = LassoCV(alphas=None, cv=10, max_iter=100000, normalize=True)\n",
    "# lassocv.fit(X_train, y_train)\n",
    "# lasso.set_params(alpha=lassocv.alpha_)\n",
    "# print(\"Alpha=\", lassocv.alpha_)\n",
    "# lasso.fit(X_train, y_train)\n",
    "# print(\"mse = \",mean_squared_error(y_test, lasso.predict(X_test)))\n",
    "# print(\"best model coefficients:\")\n",
    "# pd.Series(lasso.coef_, index=X_train.columns)"
   ]
  },
  {
   "cell_type": "markdown",
   "metadata": {},
   "source": [
    "Lasso : second solution"
   ]
  },
  {
   "cell_type": "code",
   "execution_count": null,
   "metadata": {},
   "outputs": [],
   "source": [
    "from sklearn.preprocessing import StandardScaler\n",
    "from sklearn.pipeline import Pipeline\n",
    "from sklearn.model_selection import GridSearchCV\n",
    "from sklearn.linear_model import Lasso"
   ]
  },
  {
   "cell_type": "code",
   "execution_count": 60,
   "metadata": {},
   "outputs": [],
   "source": [
    "pipeline = Pipeline([\n",
    "                     ('scaler',StandardScaler()),\n",
    "                     ('model',Lasso())\n",
    "])"
   ]
  },
  {
   "cell_type": "code",
   "execution_count": 61,
   "metadata": {},
   "outputs": [],
   "source": [
    "search = GridSearchCV(pipeline,\n",
    "                      {'model__alpha':np.arange(0.01,5,0.01)},\n",
    "                      cv = 5, scoring=\"neg_mean_squared_error\",verbose=3\n",
    "                      )"
   ]
  },
  {
   "cell_type": "code",
   "execution_count": null,
   "metadata": {
    "scrolled": true
   },
   "outputs": [],
   "source": [
    "search.fit(X_train,y_train)"
   ]
  },
  {
   "cell_type": "code",
   "execution_count": null,
   "metadata": {},
   "outputs": [],
   "source": [
    "search.best_params_"
   ]
  },
  {
   "cell_type": "code",
   "execution_count": 19,
   "metadata": {},
   "outputs": [],
   "source": [
    "# get coefficients from Lasso regression"
   ]
  },
  {
   "cell_type": "code",
   "execution_count": 41,
   "metadata": {},
   "outputs": [],
   "source": [
    "coefficients = search.best_estimator_.named_steps['model'].coef_"
   ]
  },
  {
   "cell_type": "code",
   "execution_count": 43,
   "metadata": {
    "collapsed": true
   },
   "outputs": [
    {
     "data": {
      "text/plain": [
       "array([-0.       ,  0.       ,  0.       , -0.       ,  0.       ,\n",
       "       -0.       ,  0.       , -0.       , -0.       , -0.       ,\n",
       "       -0.       , -0.       , -0.       ,  0.       , -0.       ,\n",
       "       -0.       , -0.       ,  0.       , -0.       ,  0.       ,\n",
       "       -0.       ,  0.       , -0.       ,  0.       ,  0.       ,\n",
       "        0.       , -0.       ,  0.       , -0.       ,  0.       ,\n",
       "        0.       , -0.       ,  0.       , -0.       , -0.       ,\n",
       "        0.       , -0.       ,  0.       , -0.       , -0.       ,\n",
       "        0.       , -0.       ,  0.       , -0.       ,  0.       ,\n",
       "        0.       , -0.       , -0.       , -0.       ,  0.       ,\n",
       "       -0.       ,  0.       ,  0.       ,  0.       , -0.       ,\n",
       "       -0.       , -0.       , -0.       ,  0.       , -0.       ,\n",
       "        0.       , -0.       , -0.       , -0.       ,  0.       ,\n",
       "       -0.       , -0.       , -0.       ,  0.       ,  0.       ,\n",
       "       -0.       ,  0.       ,  0.       ,  0.       , -0.       ,\n",
       "        0.       , -0.       ,  0.       , -0.       ,  0.       ,\n",
       "       -0.       ,  0.       ,  0.       , -0.       ,  0.       ,\n",
       "        0.       ,  0.       ,  0.       , -0.       , -0.       ,\n",
       "       -0.       , -0.       , -0.       ,  0.       , -0.       ,\n",
       "       -0.       , -0.       , -0.       , -0.       , -0.       ,\n",
       "       -0.       , -0.       , -0.       ,  0.       ,  0.       ,\n",
       "       -0.       ,  0.       , -0.       ,  0.       ,  0.       ,\n",
       "       -0.       , -0.       , -0.       , -0.       ,  0.       ,\n",
       "       -0.       , -0.       ,  0.       ,  0.       ,  0.       ,\n",
       "        0.       ,  0.       , -0.       ,  0.       ,  0.       ,\n",
       "       -0.       , -0.       , -0.       ,  0.       , -0.       ,\n",
       "       -0.       , -0.       , -0.       , -0.       , -0.       ,\n",
       "       -0.       , -0.       ,  0.       , -0.       , -0.       ,\n",
       "        0.       , -0.       , -0.       , -0.       , -0.       ,\n",
       "       -0.       ,  0.       , -0.       , -0.       ,  0.       ,\n",
       "        0.0448125])"
      ]
     },
     "execution_count": 43,
     "metadata": {},
     "output_type": "execute_result"
    }
   ],
   "source": [
    "coefficients"
   ]
  },
  {
   "cell_type": "code",
   "execution_count": 27,
   "metadata": {},
   "outputs": [],
   "source": [
    "# The importance of a feature is the absolute value of its coefficient"
   ]
  },
  {
   "cell_type": "code",
   "execution_count": 44,
   "metadata": {},
   "outputs": [],
   "source": [
    "importance = np.abs(coefficients)"
   ]
  },
  {
   "cell_type": "code",
   "execution_count": 29,
   "metadata": {
    "collapsed": true
   },
   "outputs": [
    {
     "data": {
      "text/plain": [
       "array([0.       , 0.       , 0.       , 0.       , 0.       , 0.       ,\n",
       "       0.       , 0.       , 0.       , 0.       , 0.       , 0.       ,\n",
       "       0.       , 0.       , 0.       , 0.       , 0.       , 0.       ,\n",
       "       0.       , 0.       , 0.       , 0.       , 0.       , 0.       ,\n",
       "       0.       , 0.       , 0.       , 0.       , 0.       , 0.       ,\n",
       "       0.       , 0.       , 0.       , 0.       , 0.       , 0.       ,\n",
       "       0.       , 0.       , 0.       , 0.       , 0.       , 0.       ,\n",
       "       0.       , 0.       , 0.       , 0.       , 0.       , 0.       ,\n",
       "       0.       , 0.       , 0.       , 0.       , 0.       , 0.       ,\n",
       "       0.       , 0.       , 0.       , 0.       , 0.       , 0.       ,\n",
       "       0.       , 0.       , 0.       , 0.       , 0.       , 0.       ,\n",
       "       0.       , 0.       , 0.       , 0.       , 0.       , 0.       ,\n",
       "       0.       , 0.       , 0.       , 0.       , 0.       , 0.       ,\n",
       "       0.       , 0.       , 0.       , 0.       , 0.       , 0.       ,\n",
       "       0.       , 0.       , 0.       , 0.       , 0.       , 0.       ,\n",
       "       0.       , 0.       , 0.       , 0.       , 0.       , 0.       ,\n",
       "       0.       , 0.       , 0.       , 0.       , 0.       , 0.       ,\n",
       "       0.       , 0.       , 0.       , 0.       , 0.       , 0.       ,\n",
       "       0.       , 0.       , 0.       , 0.       , 0.       , 0.       ,\n",
       "       0.       , 0.       , 0.       , 0.       , 0.       , 0.       ,\n",
       "       0.       , 0.       , 0.       , 0.       , 0.       , 0.       ,\n",
       "       0.       , 0.       , 0.       , 0.       , 0.       , 0.       ,\n",
       "       0.       , 0.       , 0.       , 0.       , 0.       , 0.       ,\n",
       "       0.       , 0.       , 0.       , 0.       , 0.       , 0.       ,\n",
       "       0.       , 0.       , 0.       , 0.       , 0.       , 0.       ,\n",
       "       0.0448125])"
      ]
     },
     "execution_count": 29,
     "metadata": {},
     "output_type": "execute_result"
    }
   ],
   "source": [
    "importance"
   ]
  },
  {
   "cell_type": "code",
   "execution_count": null,
   "metadata": {},
   "outputs": [],
   "source": []
  }
 ],
 "metadata": {
  "kernelspec": {
   "display_name": "Python 3",
   "language": "python",
   "name": "python3"
  },
  "language_info": {
   "codemirror_mode": {
    "name": "ipython",
    "version": 3
   },
   "file_extension": ".py",
   "mimetype": "text/x-python",
   "name": "python",
   "nbconvert_exporter": "python",
   "pygments_lexer": "ipython3",
   "version": "3.8.5"
  }
 },
 "nbformat": 4,
 "nbformat_minor": 4
}
