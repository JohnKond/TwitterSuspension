{
 "cells": [
  {
   "cell_type": "code",
   "execution_count": 45,
   "metadata": {},
   "outputs": [],
   "source": [
    "import pandas as pd\n",
    "import numpy as np\n",
    "import sklearn\n",
    "\n",
    "from sklearn.linear_model import Lasso, LassoCV, Ridge, RidgeCV\n",
    "from sklearn import model_selection\n",
    "from sklearn.model_selection import KFold\n",
    "from sklearn.metrics import mean_squared_error\n",
    "%matplotlib inline\n",
    "import matplotlib.pyplot as plt"
   ]
  },
  {
   "cell_type": "code",
   "execution_count": 2,
   "metadata": {},
   "outputs": [],
   "source": [
    "# read train,val and test from files"
   ]
  },
  {
   "cell_type": "code",
   "execution_count": 54,
   "metadata": {},
   "outputs": [],
   "source": [
    "train = pd.read_csv('input/train.tsv', sep='\\t')\n",
    "test = pd.read_csv('input/test.tsv', sep='\\t')"
   ]
  },
  {
   "cell_type": "code",
   "execution_count": 55,
   "metadata": {},
   "outputs": [],
   "source": [
    "X = train.iloc[:,1:152]"
   ]
  },
  {
   "cell_type": "code",
   "execution_count": 56,
   "metadata": {},
   "outputs": [],
   "source": [
    "y = train.loc[:,\"target\"]"
   ]
  },
  {
   "cell_type": "code",
   "execution_count": null,
   "metadata": {},
   "outputs": [],
   "source": [
    "kfold = KFold(10, True, 1)"
   ]
  },
  {
   "cell_type": "code",
   "execution_count": 73,
   "metadata": {
    "collapsed": true
   },
   "outputs": [
    {
     "name": "stdout",
     "output_type": "stream",
     "text": [
      "alpha :  4.18082528032863e-07\n",
      "alpha :  4.794795229773906e-07\n",
      "graph_dim_4\n",
      "graph_dim_95\n",
      "graph_dim_117\n",
      "alpha :  4.1576944945855885e-07\n",
      "graph_dim_54\n",
      "alpha :  4.1483592978719e-07\n",
      "graph_dim_54\n",
      "graph_dim_68\n",
      "alpha :  4.811035729258782e-07\n",
      "graph_dim_4\n",
      "graph_dim_75\n",
      "alpha :  5.924019089811373e-07\n",
      "graph_dim_4\n",
      "graph_dim_9\n",
      "graph_dim_68\n",
      "graph_dim_75\n",
      "graph_dim_117\n",
      "alpha :  4.450243533498008e-07\n",
      "graph_dim_9\n",
      "graph_dim_75\n",
      "graph_dim_117\n",
      "alpha :  4.46835145682801e-07\n",
      "graph_dim_4\n",
      "graph_dim_68\n",
      "graph_dim_92\n",
      "alpha :  4.459564176981794e-07\n",
      "graph_dim_75\n",
      "graph_dim_92\n",
      "graph_dim_95\n",
      "graph_dim_117\n",
      "alpha :  4.149677974627478e-07\n",
      "graph_dim_9\n"
     ]
    }
   ],
   "source": [
    "lasso_dict = {}\n",
    "for train_index , test_index in kfold.split(X):\n",
    "    X_train , X_test = X.iloc[train_index,:],X.iloc[test_index,:]\n",
    "    y_train , y_test = y[train_index] , y[test_index]\n",
    "    mse,zero_features = (Lasso_finetuning(X_train,y_train,X_test,y_test))\n",
    "    lasso_dict[mse] = zero_features\n",
    "    "
   ]
  },
  {
   "cell_type": "markdown",
   "metadata": {},
   "source": [
    "**lasso_dict** contains all pairs of \"mse\" : \"features with zero corelation\""
   ]
  },
  {
   "cell_type": "code",
   "execution_count": 75,
   "metadata": {},
   "outputs": [
    {
     "data": {
      "text/plain": [
       "{0.1114311972973531: [],\n",
       " 0.11256462212376686: ['graph_dim_4', 'graph_dim_95', 'graph_dim_117'],\n",
       " 0.11157049853712421: ['graph_dim_54'],\n",
       " 0.11019620817951874: ['graph_dim_54', 'graph_dim_68'],\n",
       " 0.10827877599015043: ['graph_dim_4', 'graph_dim_75'],\n",
       " 0.11527118462141611: ['graph_dim_4',\n",
       "  'graph_dim_9',\n",
       "  'graph_dim_68',\n",
       "  'graph_dim_75',\n",
       "  'graph_dim_117'],\n",
       " 0.11325168913993625: ['graph_dim_9', 'graph_dim_75', 'graph_dim_117'],\n",
       " 0.11005738005577191: ['graph_dim_4', 'graph_dim_68', 'graph_dim_92'],\n",
       " 0.11313180816450306: ['graph_dim_75',\n",
       "  'graph_dim_92',\n",
       "  'graph_dim_95',\n",
       "  'graph_dim_117'],\n",
       " 0.11353996158652488: ['graph_dim_9']}"
      ]
     },
     "execution_count": 75,
     "metadata": {},
     "output_type": "execute_result"
    }
   ],
   "source": [
    "lasso_dict"
   ]
  },
  {
   "cell_type": "markdown",
   "metadata": {},
   "source": [
    "**Lasso_finetuning** : returns a pair of mse of train dataset and zero corelation features"
   ]
  },
  {
   "cell_type": "code",
   "execution_count": 69,
   "metadata": {},
   "outputs": [],
   "source": [
    "def Lasso_finetuning(X_train, y_train,X_test,Y_test):\n",
    "    lasso = Lasso(max_iter=10000, normalize=True)\n",
    "    lassocv = LassoCV(alphas=None, cv=50, max_iter=100000, normalize=True)\n",
    "    lassocv.fit(X_train, y_train)\n",
    "    lasso.set_params(alpha=lassocv.alpha_)\n",
    "    lasso.fit(X_train, y_train)\n",
    "    mse = mean_squared_error(y_test, lasso.predict(X_test))\n",
    "\n",
    "    print(\"alpha : \",lassocv.alpha_)\n",
    "    zero_features = []\n",
    "    ser = pd.Series(lasso.coef_, index=X_train.columns)\n",
    "    for i, v in ser.items():\n",
    "        if (v == 0):\n",
    "            print(i)\n",
    "            zero_features.append(i)\n",
    "\n",
    "    return mse,zero_features"
   ]
  },
  {
   "cell_type": "code",
   "execution_count": null,
   "metadata": {},
   "outputs": [],
   "source": []
  }
 ],
 "metadata": {
  "kernelspec": {
   "display_name": "Python 3",
   "language": "python",
   "name": "python3"
  },
  "language_info": {
   "codemirror_mode": {
    "name": "ipython",
    "version": 3
   },
   "file_extension": ".py",
   "mimetype": "text/x-python",
   "name": "python",
   "nbconvert_exporter": "python",
   "pygments_lexer": "ipython3",
   "version": "3.8.5"
  }
 },
 "nbformat": 4,
 "nbformat_minor": 4
}
