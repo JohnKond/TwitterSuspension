{
 "cells": [
  {
   "cell_type": "code",
   "execution_count": 105,
   "metadata": {},
   "outputs": [],
   "source": [
    "import pandas as pd\n",
    "import numpy as np\n",
    "import sklearn\n",
    "\n",
    "from sklearn.linear_model import Lasso, LassoCV, Ridge, RidgeCV\n",
    "from sklearn import model_selection\n",
    "from sklearn.model_selection import KFold\n",
    "from sklearn import metrics\n",
    "from sklearn.metrics import mean_squared_error\n",
    "%matplotlib inline\n",
    "import matplotlib.pyplot as plt\n",
    "\n",
    "from sklearn import svm\n",
    "from decimal import *"
   ]
  },
  {
   "cell_type": "markdown",
   "metadata": {},
   "source": [
    "read train,val and test from files"
   ]
  },
  {
   "cell_type": "code",
   "execution_count": 2,
   "metadata": {},
   "outputs": [],
   "source": [
    "train = pd.read_csv('input/train.tsv', sep='\\t')\n",
    "test = pd.read_csv('input/test.tsv', sep='\\t')"
   ]
  },
  {
   "cell_type": "code",
   "execution_count": 72,
   "metadata": {},
   "outputs": [],
   "source": [
    "X = train.iloc[:100,1:151]"
   ]
  },
  {
   "cell_type": "code",
   "execution_count": 73,
   "metadata": {},
   "outputs": [],
   "source": [
    "y = train.loc[:99,\"target\"]"
   ]
  },
  {
   "cell_type": "code",
   "execution_count": 97,
   "metadata": {},
   "outputs": [
    {
     "data": {
      "text/plain": [
       "100"
      ]
     },
     "execution_count": 97,
     "metadata": {},
     "output_type": "execute_result"
    }
   ],
   "source": [
    "len(y)"
   ]
  },
  {
   "cell_type": "code",
   "execution_count": 59,
   "metadata": {},
   "outputs": [
    {
     "name": "stderr",
     "output_type": "stream",
     "text": [
      "/Users/kondo/opt/anaconda3/lib/python3.8/site-packages/sklearn/utils/validation.py:67: FutureWarning: Pass shuffle=True, random_state=1 as keyword args. From version 0.25 passing these as positional arguments will result in an error\n",
      "  warnings.warn(\"Pass {} as keyword args. From version 0.25 \"\n"
     ]
    }
   ],
   "source": [
    "kfold = KFold(10, True, 1)"
   ]
  },
  {
   "cell_type": "code",
   "execution_count": 107,
   "metadata": {},
   "outputs": [
    {
     "name": "stderr",
     "output_type": "stream",
     "text": [
      "/Users/kondo/opt/anaconda3/lib/python3.8/site-packages/pandas/core/frame.py:4163: SettingWithCopyWarning: \n",
      "A value is trying to be set on a copy of a slice from a DataFrame\n",
      "\n",
      "See the caveats in the documentation: https://pandas.pydata.org/pandas-docs/stable/user_guide/indexing.html#returning-a-view-versus-a-copy\n",
      "  return super().drop(\n"
     ]
    },
    {
     "name": "stdout",
     "output_type": "stream",
     "text": [
      "(90, 25) (10, 25)\n",
      "Accuracy:  0.6999999999999999555910790149937383830547332763671875\n"
     ]
    },
    {
     "name": "stderr",
     "output_type": "stream",
     "text": [
      "/Users/kondo/opt/anaconda3/lib/python3.8/site-packages/pandas/core/frame.py:4163: SettingWithCopyWarning: \n",
      "A value is trying to be set on a copy of a slice from a DataFrame\n",
      "\n",
      "See the caveats in the documentation: https://pandas.pydata.org/pandas-docs/stable/user_guide/indexing.html#returning-a-view-versus-a-copy\n",
      "  return super().drop(\n"
     ]
    },
    {
     "name": "stdout",
     "output_type": "stream",
     "text": [
      "(90, 30) (10, 30)\n",
      "Accuracy:  0.8000000000000000444089209850062616169452667236328125\n"
     ]
    },
    {
     "name": "stderr",
     "output_type": "stream",
     "text": [
      "/Users/kondo/opt/anaconda3/lib/python3.8/site-packages/pandas/core/frame.py:4163: SettingWithCopyWarning: \n",
      "A value is trying to be set on a copy of a slice from a DataFrame\n",
      "\n",
      "See the caveats in the documentation: https://pandas.pydata.org/pandas-docs/stable/user_guide/indexing.html#returning-a-view-versus-a-copy\n",
      "  return super().drop(\n"
     ]
    },
    {
     "name": "stdout",
     "output_type": "stream",
     "text": [
      "(90, 21) (10, 21)\n",
      "Accuracy:  0.90000000000000002220446049250313080847263336181640625\n"
     ]
    },
    {
     "name": "stderr",
     "output_type": "stream",
     "text": [
      "/Users/kondo/opt/anaconda3/lib/python3.8/site-packages/pandas/core/frame.py:4163: SettingWithCopyWarning: \n",
      "A value is trying to be set on a copy of a slice from a DataFrame\n",
      "\n",
      "See the caveats in the documentation: https://pandas.pydata.org/pandas-docs/stable/user_guide/indexing.html#returning-a-view-versus-a-copy\n",
      "  return super().drop(\n"
     ]
    },
    {
     "name": "stdout",
     "output_type": "stream",
     "text": [
      "(90, 15) (10, 15)\n",
      "Accuracy:  0.90000000000000002220446049250313080847263336181640625\n"
     ]
    },
    {
     "name": "stderr",
     "output_type": "stream",
     "text": [
      "/Users/kondo/opt/anaconda3/lib/python3.8/site-packages/pandas/core/frame.py:4163: SettingWithCopyWarning: \n",
      "A value is trying to be set on a copy of a slice from a DataFrame\n",
      "\n",
      "See the caveats in the documentation: https://pandas.pydata.org/pandas-docs/stable/user_guide/indexing.html#returning-a-view-versus-a-copy\n",
      "  return super().drop(\n"
     ]
    },
    {
     "name": "stdout",
     "output_type": "stream",
     "text": [
      "(90, 24) (10, 24)\n",
      "Accuracy:  0.90000000000000002220446049250313080847263336181640625\n"
     ]
    },
    {
     "name": "stderr",
     "output_type": "stream",
     "text": [
      "/Users/kondo/opt/anaconda3/lib/python3.8/site-packages/pandas/core/frame.py:4163: SettingWithCopyWarning: \n",
      "A value is trying to be set on a copy of a slice from a DataFrame\n",
      "\n",
      "See the caveats in the documentation: https://pandas.pydata.org/pandas-docs/stable/user_guide/indexing.html#returning-a-view-versus-a-copy\n",
      "  return super().drop(\n"
     ]
    },
    {
     "name": "stdout",
     "output_type": "stream",
     "text": [
      "(90, 24) (10, 24)\n",
      "Accuracy:  0.6999999999999999555910790149937383830547332763671875\n"
     ]
    },
    {
     "name": "stderr",
     "output_type": "stream",
     "text": [
      "/Users/kondo/opt/anaconda3/lib/python3.8/site-packages/pandas/core/frame.py:4163: SettingWithCopyWarning: \n",
      "A value is trying to be set on a copy of a slice from a DataFrame\n",
      "\n",
      "See the caveats in the documentation: https://pandas.pydata.org/pandas-docs/stable/user_guide/indexing.html#returning-a-view-versus-a-copy\n",
      "  return super().drop(\n"
     ]
    },
    {
     "name": "stdout",
     "output_type": "stream",
     "text": [
      "(90, 15) (10, 15)\n",
      "Accuracy:  0.59999999999999997779553950749686919152736663818359375\n"
     ]
    },
    {
     "name": "stderr",
     "output_type": "stream",
     "text": [
      "/Users/kondo/opt/anaconda3/lib/python3.8/site-packages/pandas/core/frame.py:4163: SettingWithCopyWarning: \n",
      "A value is trying to be set on a copy of a slice from a DataFrame\n",
      "\n",
      "See the caveats in the documentation: https://pandas.pydata.org/pandas-docs/stable/user_guide/indexing.html#returning-a-view-versus-a-copy\n",
      "  return super().drop(\n"
     ]
    },
    {
     "name": "stdout",
     "output_type": "stream",
     "text": [
      "(90, 31) (10, 31)\n",
      "Accuracy:  0.8000000000000000444089209850062616169452667236328125\n"
     ]
    },
    {
     "name": "stderr",
     "output_type": "stream",
     "text": [
      "/Users/kondo/opt/anaconda3/lib/python3.8/site-packages/pandas/core/frame.py:4163: SettingWithCopyWarning: \n",
      "A value is trying to be set on a copy of a slice from a DataFrame\n",
      "\n",
      "See the caveats in the documentation: https://pandas.pydata.org/pandas-docs/stable/user_guide/indexing.html#returning-a-view-versus-a-copy\n",
      "  return super().drop(\n"
     ]
    },
    {
     "name": "stdout",
     "output_type": "stream",
     "text": [
      "(90, 19) (10, 19)\n",
      "Accuracy:  0.8000000000000000444089209850062616169452667236328125\n",
      "(90, 31) (10, 31)\n",
      "Accuracy:  0.59999999999999997779553950749686919152736663818359375\n"
     ]
    },
    {
     "name": "stderr",
     "output_type": "stream",
     "text": [
      "/Users/kondo/opt/anaconda3/lib/python3.8/site-packages/pandas/core/frame.py:4163: SettingWithCopyWarning: \n",
      "A value is trying to be set on a copy of a slice from a DataFrame\n",
      "\n",
      "See the caveats in the documentation: https://pandas.pydata.org/pandas-docs/stable/user_guide/indexing.html#returning-a-view-versus-a-copy\n",
      "  return super().drop(\n"
     ]
    }
   ],
   "source": [
    "for train_index , test_index in kfold.split(X):\n",
    "    zero_features = []\n",
    "    X_train , X_test = X.iloc[train_index,:],X.iloc[test_index,:]\n",
    "    y_train , y_test = y[train_index] , y[test_index]\n",
    "    mse,zero_features = (Lasso_finetuning(X_train,y_train,X_test,y_test))\n",
    "    #lasso_dict[mse] = zero_features\n",
    "\n",
    "    # drop zero corelation features\n",
    "    X_train.drop(zero_features, axis = 1, inplace=True)\n",
    "    X_test.drop(zero_features, axis = 1, inplace=True)\n",
    "\n",
    "    #svm classifier\n",
    "    clf = svm.SVC(kernel='linear')\n",
    "    clf.fit(X_train,y_train)\n",
    "    y_pred = clf.predict(X_test)\n",
    "    print(\"Accuracy: \",Decimal(metrics.accuracy_score(y_test, y_pred)))\n",
    "\n",
    "    #random forests classifier\n",
    "    \n",
    "    \n",
    "    "
   ]
  },
  {
   "cell_type": "code",
   "execution_count": null,
   "metadata": {},
   "outputs": [],
   "source": []
  },
  {
   "cell_type": "code",
   "execution_count": null,
   "metadata": {},
   "outputs": [],
   "source": []
  },
  {
   "cell_type": "code",
   "execution_count": null,
   "metadata": {},
   "outputs": [],
   "source": []
  },
  {
   "cell_type": "code",
   "execution_count": 51,
   "metadata": {
    "collapsed": true
   },
   "outputs": [
    {
     "data": {
      "text/plain": [
       "{0.09736291227690382: ['graph_dim_1',\n",
       "  'graph_dim_2',\n",
       "  'graph_dim_3',\n",
       "  'graph_dim_5',\n",
       "  'graph_dim_6',\n",
       "  'graph_dim_7',\n",
       "  'graph_dim_8',\n",
       "  'graph_dim_9',\n",
       "  'graph_dim_10',\n",
       "  'graph_dim_11',\n",
       "  'graph_dim_12',\n",
       "  'graph_dim_13',\n",
       "  'graph_dim_14',\n",
       "  'graph_dim_15',\n",
       "  'graph_dim_16',\n",
       "  'graph_dim_17',\n",
       "  'graph_dim_18',\n",
       "  'graph_dim_19',\n",
       "  'graph_dim_20',\n",
       "  'graph_dim_21',\n",
       "  'graph_dim_22',\n",
       "  'graph_dim_23',\n",
       "  'graph_dim_24',\n",
       "  'graph_dim_26',\n",
       "  'graph_dim_27',\n",
       "  'graph_dim_28',\n",
       "  'graph_dim_29',\n",
       "  'graph_dim_30',\n",
       "  'graph_dim_31',\n",
       "  'graph_dim_32',\n",
       "  'graph_dim_33',\n",
       "  'graph_dim_36',\n",
       "  'graph_dim_37',\n",
       "  'graph_dim_38',\n",
       "  'graph_dim_39',\n",
       "  'graph_dim_40',\n",
       "  'graph_dim_43',\n",
       "  'graph_dim_44',\n",
       "  'graph_dim_45',\n",
       "  'graph_dim_46',\n",
       "  'graph_dim_47',\n",
       "  'graph_dim_48',\n",
       "  'graph_dim_49',\n",
       "  'graph_dim_50',\n",
       "  'graph_dim_51',\n",
       "  'graph_dim_52',\n",
       "  'graph_dim_53',\n",
       "  'graph_dim_54',\n",
       "  'graph_dim_55',\n",
       "  'graph_dim_56',\n",
       "  'graph_dim_57',\n",
       "  'graph_dim_58',\n",
       "  'graph_dim_59',\n",
       "  'graph_dim_60',\n",
       "  'graph_dim_61',\n",
       "  'graph_dim_62',\n",
       "  'graph_dim_63',\n",
       "  'graph_dim_64',\n",
       "  'graph_dim_65',\n",
       "  'graph_dim_66',\n",
       "  'graph_dim_67',\n",
       "  'graph_dim_68',\n",
       "  'graph_dim_69',\n",
       "  'graph_dim_70',\n",
       "  'graph_dim_71',\n",
       "  'graph_dim_72',\n",
       "  'graph_dim_73',\n",
       "  'graph_dim_75',\n",
       "  'graph_dim_76',\n",
       "  'graph_dim_77',\n",
       "  'graph_dim_80',\n",
       "  'graph_dim_81',\n",
       "  'graph_dim_82',\n",
       "  'graph_dim_83',\n",
       "  'graph_dim_84',\n",
       "  'graph_dim_85',\n",
       "  'graph_dim_86',\n",
       "  'graph_dim_87',\n",
       "  'graph_dim_88',\n",
       "  'graph_dim_89',\n",
       "  'graph_dim_90',\n",
       "  'graph_dim_91',\n",
       "  'graph_dim_92',\n",
       "  'graph_dim_93',\n",
       "  'graph_dim_94',\n",
       "  'graph_dim_95',\n",
       "  'graph_dim_96',\n",
       "  'graph_dim_97',\n",
       "  'graph_dim_98',\n",
       "  'graph_dim_100',\n",
       "  'graph_dim_101',\n",
       "  'graph_dim_102',\n",
       "  'graph_dim_103',\n",
       "  'graph_dim_104',\n",
       "  'graph_dim_105',\n",
       "  'graph_dim_106',\n",
       "  'graph_dim_107',\n",
       "  'graph_dim_108',\n",
       "  'graph_dim_109',\n",
       "  'graph_dim_110',\n",
       "  'graph_dim_111',\n",
       "  'graph_dim_112',\n",
       "  'graph_dim_113',\n",
       "  'graph_dim_114',\n",
       "  'graph_dim_115',\n",
       "  'graph_dim_116',\n",
       "  'graph_dim_117',\n",
       "  'graph_dim_118',\n",
       "  'graph_dim_119',\n",
       "  'graph_dim_120',\n",
       "  'graph_dim_121',\n",
       "  'graph_dim_122',\n",
       "  'graph_dim_123',\n",
       "  'graph_dim_124',\n",
       "  'graph_dim_125',\n",
       "  'graph_dim_126',\n",
       "  'graph_dim_127',\n",
       "  'graph_dim_128',\n",
       "  'graph_dim_129',\n",
       "  'graph_dim_130',\n",
       "  'graph_dim_131',\n",
       "  'graph_dim_132',\n",
       "  'graph_dim_134',\n",
       "  'graph_dim_135',\n",
       "  'graph_dim_136',\n",
       "  'graph_dim_137',\n",
       "  'graph_dim_138',\n",
       "  'graph_dim_139',\n",
       "  'graph_dim_140',\n",
       "  'graph_dim_141',\n",
       "  'graph_dim_142',\n",
       "  'graph_dim_144',\n",
       "  'graph_dim_145',\n",
       "  'graph_dim_146',\n",
       "  'graph_dim_147',\n",
       "  'graph_dim_148',\n",
       "  'graph_dim_149',\n",
       "  'graph_dim_150']}"
      ]
     },
     "execution_count": 51,
     "metadata": {},
     "output_type": "execute_result"
    }
   ],
   "source": [
    "lasso_dict"
   ]
  },
  {
   "cell_type": "markdown",
   "metadata": {},
   "source": [
    "**Lasso_finetuning** : returns a pair of mse of train dataset and zero corelation features"
   ]
  },
  {
   "cell_type": "code",
   "execution_count": 99,
   "metadata": {},
   "outputs": [],
   "source": [
    "def Lasso_finetuning(X_train, y_train,X_test,Y_test):\n",
    "    lasso = Lasso(max_iter=10000, normalize=True)\n",
    "    #alphas = [0.0001, 0.00001, 0.001, 0.01, 0.1]\n",
    "    lassocv = LassoCV(alphas=None, cv=50, max_iter=100000, normalize=True)\n",
    "    lassocv.fit(X_train, y_train)\n",
    "    lasso.set_params(alpha=lassocv.alpha_)\n",
    "    lasso.fit(X_train, y_train)\n",
    "    mse = mean_squared_error(y_test, lasso.predict(X_test))\n",
    "\n",
    "    #print(\"alpha : \",lassocv.alpha_)\n",
    "    zero_features = []\n",
    "    zero_count = 0;\n",
    "    ser = pd.Series(lasso.coef_, index=X_train.columns)\n",
    "    for i, v in ser.items():\n",
    "        #print(i,v)\n",
    "        if (abs(v) == 0):\n",
    "            zero_count += 1\n",
    "            zero_features.append(i)\n",
    "    #print(zero_count,' zero corelation features')\n",
    "    return mse,zero_features"
   ]
  },
  {
   "cell_type": "markdown",
   "metadata": {},
   "source": [
    "**accuracy_score** : returns accuracy score of the model "
   ]
  },
  {
   "cell_type": "code",
   "execution_count": 104,
   "metadata": {},
   "outputs": [],
   "source": [
    "def accuracy_score(y_test,y_pred):\n",
    "    count = np.sum(np.all(y_test == y_pred))\n",
    "    print(count)\n",
    "    return count / len(y_test)"
   ]
  },
  {
   "cell_type": "code",
   "execution_count": null,
   "metadata": {},
   "outputs": [],
   "source": []
  }
 ],
 "metadata": {
  "kernelspec": {
   "display_name": "Python 3",
   "language": "python",
   "name": "python3"
  },
  "language_info": {
   "codemirror_mode": {
    "name": "ipython",
    "version": 3
   },
   "file_extension": ".py",
   "mimetype": "text/x-python",
   "name": "python",
   "nbconvert_exporter": "python",
   "pygments_lexer": "ipython3",
   "version": "3.8.5"
  }
 },
 "nbformat": 4,
 "nbformat_minor": 4
}
